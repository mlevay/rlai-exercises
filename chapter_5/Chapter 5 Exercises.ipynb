{
 "nbformat": 4,
 "nbformat_minor": 2,
 "metadata": {
  "language_info": {
   "name": "python",
   "codemirror_mode": {
    "name": "ipython",
    "version": 3
   }
  },
  "orig_nbformat": 2,
  "file_extension": ".py",
  "mimetype": "text/x-python",
  "name": "python",
  "npconvert_exporter": "python",
  "pygments_lexer": "ipython3",
  "version": 3
 },
 "cells": [
  {
   "cell_type": "markdown",
   "execution_count": null,
   "metadata": {},
   "outputs": [],
   "source": [
    "# Exercise 5.1\n",
    "## Question:\n",
    "Consider the diagrams in Figure 5.1. \n",
    "\n",
    "<img src=\"img/501.png\" style=\"height:350px\">\n",
    "\n",
    "Why does the estimated value function jump up for the last two rows in the rear? Why does it drop off for the whole last row on the left? Why are the frontmost values higher in the upper diagrams than in the lower?\n",
    "## Answer:\n",
    "The reason for the estimated value function to jump up for the last two rows in the rear is that the player sticks on 20 or 21, and hence has a much higher probability to win the game. The estimated value function drops off for the whole last row on the left because the dealer is in posession of an ace card, which decreases the probability for the player to win. The frontmost values are higher in the upper diagrams than in the lower ones because in the upper diagrams, the player has a \"usable\" ace card, which again increases the probability for the player to win."
   ]
  },
  {
   "cell_type": "markdown",
   "execution_count": null,
   "metadata": {},
   "outputs": [],
   "source": [
    "# Exercise 5.2\n",
    "## Question:\n",
    "Suppose every-visit MC was used instead of first-visit MC on the blackjack task. Would you expect the results to be very different? Why or why not?\n",
    "\n",
    "## Answer:\n",
    "The results should be similar: all the rewards are zero (except for the last step). So in an episode, the return will only be changed in the last step, no matter if the method is first-visit or every-visit."
   ]
  },
  {
   "cell_type": "markdown",
   "execution_count": null,
   "metadata": {},
   "outputs": [],
   "source": [
    "# Exercise 5.3\n",
    "## Question:\n",
    "What is the backup digram for Monte Carlo estimation of $q_{\\pi}$?\n",
    "\n",
    "## Answer:\n",
    "<img src=\"img/503.png\" style=\"height:150px\">"
   ]
  }
 ]
}